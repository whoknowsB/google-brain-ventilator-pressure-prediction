{
 "cells": [
  {
   "cell_type": "code",
   "execution_count": null,
   "metadata": {},
   "outputs": [],
   "source": [
    "import pandas as pd\n",
    "import numpy as np\n",
    "from pathlib import Path\n",
    "from tqdm import tqdm\n",
    "from sklearn.metrics import mean_absolute_error\n",
    "import sys\n",
    "sys.path.append('/workspaces/ventilator-pressure-prediction/')"
   ]
  },
  {
   "cell_type": "code",
   "execution_count": null,
   "metadata": {},
   "outputs": [],
   "source": [
    "from src.datamodules.datamodule import VPPDataModule"
   ]
  },
  {
   "cell_type": "code",
   "execution_count": null,
   "metadata": {},
   "outputs": [],
   "source": [
    "dm = VPPDataModule(\n",
    "    batch_size = 32,\n",
    "    dataset={'_target_': 'src.datamodules.dataset.VPPDataset'},\n",
    "    splitter = {'_target_': 'sklearn.model_selection.KFold', 'n_splits': 11, 'shuffle': True, 'random_state':1774},\n",
    "    save_df=True\n",
    ")\n",
    "train = dm.train\n",
    "test = dm.test"
   ]
  },
  {
   "cell_type": "code",
   "execution_count": null,
   "metadata": {},
   "outputs": [],
   "source": [
    "train = train[['id', 'pressure', 'fold', 'u_out']].set_index('id')\n",
    "test = test[['id']].set_index('id')"
   ]
  },
  {
   "cell_type": "code",
   "execution_count": null,
   "metadata": {},
   "outputs": [],
   "source": [
    "all_pressure = np.sort(train.pressure.unique())\n",
    "min_pressure, max_pressure = all_pressure[0], all_pressure[-1]\n",
    "step_pressure = (all_pressure[1:] - all_pressure[:-1])[0]\n",
    "def round_pressure(pressure): return np.round((pressure - min_pressure)/step_pressure) * step_pressure + min_pressure\n",
    "min_pressure, max_pressure, step_pressure"
   ]
  },
  {
   "cell_type": "code",
   "execution_count": null,
   "metadata": {},
   "outputs": [],
   "source": [
    "names = ['cloudy']\n",
    "folds = range(11)"
   ]
  },
  {
   "cell_type": "code",
   "execution_count": null,
   "metadata": {},
   "outputs": [],
   "source": [
    "working_path = Path('../')\n",
    "log_path = working_path / 'logs/experiments'\n",
    "\n",
    "oofs = []\n",
    "pred = []\n",
    "for name in tqdm(names):\n",
    "    os = []\n",
    "    ps = []\n",
    "    for fold in folds:\n",
    "        o = pd.read_csv(log_path/name/str(fold)/'oof_df.csv', index_col='id')\n",
    "        o['pressure'] = round_pressure(o['pressure'])\n",
    "        os.append(o)\n",
    "\n",
    "        p = pd.read_csv(log_path/name/str(fold)/'pred_df.csv', index_col='id')\n",
    "        p['pressure'] = round_pressure(p['pressure'])\n",
    "        p = p.rename(columns={'pressure': fold})\n",
    "        ps.append(p)\n",
    "    \n",
    "    os = pd.concat(os).sort_values('id')\n",
    "    os = os.rename(columns={'pressure': name})\n",
    "    oofs.append(os)\n",
    "    \n",
    "    ps = pd.concat(ps, axis=1)\n",
    "    ps.columns = pd.MultiIndex.from_product([[name], ps.columns])\n",
    "    pred.append(ps)\n",
    "\n",
    "oofs = pd.concat(oofs, axis=1)\n",
    "pred = pd.concat(pred, axis=1)\n",
    "\n"
   ]
  },
  {
   "cell_type": "code",
   "execution_count": null,
   "metadata": {},
   "outputs": [],
   "source": [
    "pred.columns = [f for n, f in pred.columns]"
   ]
  },
  {
   "cell_type": "code",
   "execution_count": null,
   "metadata": {},
   "outputs": [],
   "source": [
    "cv_df = oofs.join(train)\n",
    "cv_df = cv_df[cv_df.u_out == 0]"
   ]
  },
  {
   "cell_type": "code",
   "execution_count": null,
   "metadata": {},
   "outputs": [],
   "source": [
    "cv_by_fold = {fold: mean_absolute_error(fold_df.pressure, fold_df[names[0]]) for fold, fold_df in cv_df.groupby('fold')}\n",
    "mae_ = np.mean(list(cv_by_fold.values()))\n",
    "mae_"
   ]
  },
  {
   "cell_type": "code",
   "execution_count": null,
   "metadata": {},
   "outputs": [],
   "source": [
    "oofs = oofs.join(train)[[names[0], 'fold']]"
   ]
  },
  {
   "cell_type": "code",
   "execution_count": null,
   "metadata": {},
   "outputs": [],
   "source": [
    "oofs.columns = ['pressure', 'fold']"
   ]
  },
  {
   "cell_type": "code",
   "execution_count": null,
   "metadata": {},
   "outputs": [],
   "source": [
    "oofs.to_csv(f'./oofs_{name}_{str(folds).replace(\" \", \"\")}_{str(mae_)[:6]}.csv')\n",
    "pred.to_csv(f'./pred_by_folds_{name}_{str(folds).replace(\" \", \"\")}_{str(mae_)[:6]}.csv')\n",
    "pred.median(axis=1).to_frame().rename(columns={0: 'pressure'}).to_csv(f'./pred_{name}_{str(folds).replace(\" \", \"\")}_{str(mae_)[:6]}.csv')"
   ]
  }
 ],
 "metadata": {
  "interpreter": {
   "hash": "d4d1e4263499bec80672ea0156c357c1ee493ec2b1c70f0acce89fc37c4a6abe"
  },
  "kernelspec": {
   "display_name": "Python 3.7.10 64-bit ('base': conda)",
   "name": "python3"
  },
  "language_info": {
   "codemirror_mode": {
    "name": "ipython",
    "version": 3
   },
   "file_extension": ".py",
   "mimetype": "text/x-python",
   "name": "python",
   "nbconvert_exporter": "python",
   "pygments_lexer": "ipython3",
   "version": "3.7.10"
  },
  "orig_nbformat": 4
 },
 "nbformat": 4,
 "nbformat_minor": 2
}
